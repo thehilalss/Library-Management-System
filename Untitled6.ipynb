{
  "nbformat": 4,
  "nbformat_minor": 0,
  "metadata": {
    "colab": {
      "provenance": [],
      "authorship_tag": "ABX9TyPGcjkFl+3R6iBw3Ev9b7Gh",
      "include_colab_link": true
    },
    "kernelspec": {
      "name": "python3",
      "display_name": "Python 3"
    },
    "language_info": {
      "name": "python"
    }
  },
  "cells": [
    {
      "cell_type": "markdown",
      "metadata": {
        "id": "view-in-github",
        "colab_type": "text"
      },
      "source": [
        "<a href=\"https://colab.research.google.com/github/thehilalss/Library-Management-System/blob/main/Untitled6.ipynb\" target=\"_parent\"><img src=\"https://colab.research.google.com/assets/colab-badge.svg\" alt=\"Open In Colab\"/></a>"
      ]
    },
    {
      "cell_type": "code",
      "execution_count": null,
      "metadata": {
        "colab": {
          "base_uri": "https://localhost:8080/"
        },
        "id": "CTkMs2koQcjA",
        "outputId": "b90881bc-28d6-473f-a522-baf974875abe"
      },
      "outputs": [
        {
          "output_type": "stream",
          "name": "stdout",
          "text": [
            "\n",
            "    *** MENU ***\n",
            "    1) List Books\n",
            "    2) Add Book\n",
            "    3) Put the Book Away\n",
            "    4) Exit\n",
            "    \n"
          ]
        }
      ],
      "source": [
        "\n",
        "class Library:                                     # Kutuphane adında bir sınıf tanımladım.\n",
        "    def __init__(self):                            # books.txt dosyasını oluşturdum.\n",
        "        self.file = \"books.txt\"\n",
        "\n",
        "    def list_books(self):                          # kitap listele adında bir metod tanımladım.\n",
        "                                                   # kitaplar adında boş bir liste tanımladım.\n",
        "        books = []\n",
        "        with open(self.file, \"r\") as file:         # dosyayı okuma modunda açtım.\n",
        "            for line in file.readlines():\n",
        "                book = line.strip().split(\",\")\n",
        "                books.append(book)\n",
        "\n",
        "        for book in books:\n",
        "            print(f\"Book Name: {book[0]}\")\n",
        "            print(f\"Author: {book[1]}\")\n",
        "            print(f\"Release Date: {book[2]}\")\n",
        "            print(f\"Number of Pages: {book[3]}\")\n",
        "            print(\"-\" * 20)\n",
        "\n",
        "    def add_book(self):\n",
        "        book_name = input(\"Book Name : \")\n",
        "        author = input(\"Author :  \")\n",
        "        release_date = input(\"Release Date : \")\n",
        "        pages = input(\"Number of Pages : \")\n",
        "\n",
        "        new_book = f\"{book_name},{author},{release_date},{pages}\\n\"\n",
        "\n",
        "        with open(self.file, \"a\") as file:                                #self.file adındaki dosyayı \"ekleme\" modunda açtım ve dosya nesnesini file değişkenine atmasını sağladım.\n",
        "            file.write(new_book)                                          # with sayesinde dosya düzgün kapatılacak.\n",
        "\n",
        "    def putaway_book(self):\n",
        "        book_name = input(\"Book Name to be Deleted: \")\n",
        "\n",
        "        books = []\n",
        "        with open(self.file, \"r\") as file:\n",
        "            for line in file.readlines():\n",
        "                book = line.strip().split(\",\")\n",
        "                books.append(book)\n",
        "\n",
        "        book_index = None\n",
        "        for i, book in enumerate(books):\n",
        "            if book[0] == book_name:\n",
        "                book_index = i\n",
        "                break\n",
        "\n",
        "        if book_index is not None:\n",
        "            del books[book_index]\n",
        "\n",
        "            with open(self.file, \"w\") as file:\n",
        "                for book in books:\n",
        "                    new_book = f\"{book[0]},{book[1]},{book[2]},{book[3]}\\n\"\n",
        "                    file.write(new_book)\n",
        "\n",
        "lib = Library()\n",
        "\n",
        "while True:\n",
        "    print(\"\"\"\n",
        "    *** MENU ***\n",
        "    1) List Books\n",
        "    2) Add Book\n",
        "    3) Put the Book Away\n",
        "    4) Exit\n",
        "    \"\"\")\n",
        "\n",
        "    selection = input(\"Your Choice : \")\n",
        "\n",
        "    if selection == \"1\":\n",
        "        lib.list_books()\n",
        "    elif selection == \"2\":\n",
        "        lib.add_book()\n",
        "    elif selection == \"3\":\n",
        "        lib.putaway_book()\n",
        "    elif selection == \"4\":\n",
        "        break\n",
        "    else:\n",
        "       print(\"Invalid Selection!\")\n"
      ]
    }
  ]
}